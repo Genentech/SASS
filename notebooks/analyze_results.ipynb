{
 "cells": [
  {
   "cell_type": "code",
   "execution_count": null,
   "id": "61220a35-7e08-4d1d-b6c7-c106f3c60498",
   "metadata": {},
   "outputs": [],
   "source": [
    "%reload_ext autoreload\n",
    "%autoreload 2\n",
    "%config IPCompleter.greedy=True\n",
    "\n",
    "import math\n",
    "import pickle\n",
    "\n",
    "from matplotlib import pyplot as plt\n",
    "\n",
    "from sass.utils.utils_data import ResultAnalysis"
   ]
  },
  {
   "cell_type": "markdown",
   "id": "adf0ce52-6d3d-4e21-85d2-4861d3b11ba8",
   "metadata": {},
   "source": [
    "## Calcuate and visualize recall curve"
   ]
  },
  {
   "cell_type": "code",
   "execution_count": null,
   "id": "08a9d651-44cb-457f-9102-c1847377322b",
   "metadata": {},
   "outputs": [],
   "source": [
    "def plot_recall(top_n, true_scores, f_names, is_score: bool, titles: list = [], exp_product_ns = None, show_plot=True):\n",
    "    \n",
    "    if show_plot:\n",
    "        n_col = 3\n",
    "        n_row = math.ceil(len(f_names) / n_col)\n",
    "        row_size = 3\n",
    "        col_size = 4\n",
    "        fig, axes = plt.subplots(n_row, n_col, figsize=[col_size*n_col, row_size*n_row])\n",
    "    if not titles:\n",
    "        titles = [None] * len(f_names)\n",
    "    \n",
    "    if not exp_product_ns:\n",
    "        exp_product_ns = [None] * len(f_names)\n",
    "        \n",
    "    auc_vals = []\n",
    "    for (i, f_name), p_n in zip(enumerate(f_names), exp_product_ns):\n",
    "        if true_scores is None:\n",
    "            with open(true_scores, 'rb') as f:\n",
    "                _true_scores = pickle.load(f)\n",
    "        else:\n",
    "            _true_scores = true_scores\n",
    "\n",
    "        if is_score:\n",
    "            with open(f_name, 'rb') as f:\n",
    "                scores = pickle.load(f)\n",
    "            analyzer = ResultAnalysis(_true_scores, exp_scores=scores, sort_scores=False,\n",
    "                                     max_exp_product_n=p_n,)\n",
    "        else:\n",
    "            analyzer = ResultAnalysis(_true_scores, exp_scores=None, \n",
    "                                      exp_product_file=f_name, sort_scores=False,\n",
    "                                     max_exp_product_n=p_n,\n",
    "                                     )\n",
    "        analyzer.calc_recall_auc(top_n)\n",
    "                \n",
    "        if show_plot:\n",
    "            title = titles[i]\n",
    "            if title is None:\n",
    "                title = f_name.split('_')[1:-2]\n",
    "                title = '_'.join(title).split('/')[-1]\n",
    "            i, j = divmod(i, 3)\n",
    "            if n_row == 1:\n",
    "                analyzer.plot_recall_auc(title, ax=axes[j])\n",
    "            else:\n",
    "                analyzer.plot_recall_auc(title, ax=axes[i, j])\n",
    "        auc_vals.append(analyzer.recall_auc)\n",
    "    if show_plot:\n",
    "        plt.tight_layout()\n",
    "    return analyzer\n",
    "    "
   ]
  },
  {
   "cell_type": "markdown",
   "id": "685816eb-c4dd-493f-98d6-1cf0580ef8ca",
   "metadata": {},
   "source": [
    "## Plot recall curves"
   ]
  },
  {
   "cell_type": "code",
   "execution_count": null,
   "metadata": {},
   "outputs": [],
   "source": [
    "true_score_file = ... # Ground truth scores.\n",
    "top_m = 20000\n",
    "auc_n = 1000\n",
    "\n",
    "with open(true_score_file, 'rb') as f:\n",
    "    true_scores = pickle.load(f)\n",
    "\n",
    "f_names = [ # SASS query score files.\n",
    "    ...\n",
    "]\n",
    "freq = plot_recall(top_n=auc_n, true_scores=true_scores, f_names=f_names, is_score=True,\n",
    "                   exp_product_ns=[top_m]*len(f_names))"
   ]
  },
  {
   "cell_type": "code",
   "execution_count": null,
   "id": "0efa1a6a-9ec8-42fd-9aed-ea1a502a7c22",
   "metadata": {},
   "outputs": [],
   "source": []
  }
 ],
 "metadata": {
  "kernelspec": {
   "display_name": "Python (chen_notebooks)",
   "language": "python",
   "name": "chen_notebooks"
  },
  "language_info": {
   "codemirror_mode": {
    "name": "ipython",
    "version": 3
   },
   "file_extension": ".py",
   "mimetype": "text/x-python",
   "name": "python",
   "nbconvert_exporter": "python",
   "pygments_lexer": "ipython3",
   "version": "3.9.0"
  }
 },
 "nbformat": 4,
 "nbformat_minor": 5
}
